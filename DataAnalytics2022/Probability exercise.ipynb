{
 "cells": [
  {
   "cell_type": "markdown",
   "id": "0135c0a3",
   "metadata": {},
   "source": [
    "# Probability, statistics, and information theory: exercise tasks"
   ]
  },
  {
   "cell_type": "code",
   "execution_count": 1,
   "id": "a3298851",
   "metadata": {},
   "outputs": [],
   "source": [
    "from helpers import *"
   ]
  },
  {
   "cell_type": "markdown",
   "id": "64ba2be8",
   "metadata": {},
   "source": [
    "# Univariate data"
   ]
  },
  {
   "cell_type": "markdown",
   "id": "5c30738a",
   "metadata": {},
   "source": [
    "## Task 1: Specifying a univariate Gaussian \n",
    "The code in the cell below creates plot of a probability density function (pdf) of a \n",
    "univariate Gaussian whose parameter values can be (re)set interactively.\n",
    "\n",
    "Play with setting the parameter values, and select parameter values that are different from the default ones. \n",
    "\n",
    "In the 'Answer'-section, briefly describe in the empty cell i) what do the parameters mean/control, ii) how does changing them can be seen from the plot, and iii) what parameter values did you choose"
   ]
  },
  {
   "cell_type": "code",
   "execution_count": 2,
   "id": "fdc80f61",
   "metadata": {},
   "outputs": [
    {
     "data": {
      "application/vnd.jupyter.widget-view+json": {
       "model_id": "12efaa7e541f4d5195d53cd5fa02d474",
       "version_major": 2,
       "version_minor": 0
      },
      "text/plain": [
       "interactive(children=(FloatSlider(value=0.0, description='$\\\\mu$', max=2.0, min=-2.0, step=0.5), FloatSlider(v…"
      ]
     },
     "metadata": {},
     "output_type": "display_data"
    }
   ],
   "source": [
    "interactive_plot = plot_and_specify_univariate_gaussian_interactively()\n",
    "interactive_plot"
   ]
  },
  {
   "cell_type": "code",
   "execution_count": 3,
   "id": "3aeaef1f",
   "metadata": {},
   "outputs": [],
   "source": [
    "mu, sigma, _, __ = interactive_plot.result # extracts the parameter values from the interactive plot instance "
   ]
  },
  {
   "cell_type": "markdown",
   "id": "244fbfe0",
   "metadata": {},
   "source": [
    "### Answer\n",
    "Input your answers to the cell below."
   ]
  },
  {
   "cell_type": "markdown",
   "id": "b28aadbb",
   "metadata": {},
   "source": [
    "1) The normal (guassian) distribution is known for 2 parameters:\n",
    " \n",
    " The parameter u (mu) is the expected value or the mean, and it is the centroid of the pdf and it controlls the point at which the pdf is maximum.\n",
    " 𝜎 is standard deviation;(variance=𝜎²); is a measure of how dispersed the data is in relation to the mean, the higher the standard of deviation the more the data is spread out around the mean.\n",
    " \n",
    " 2) Changing the parameters and the results, and 3) chosen values:\n",
    " \n",
    " When mu is at the value 0, the mean is at 0, so the peak changes according to if we vary the value of the expected value. However even if changing the value of the expected value to 1 for example, it shifts the entire curve right on the X-axis, but the curves still have the same standard deviation.\n",
    "\n",
    " When changing 𝜎 from 1 to 2, the curve becomes more spread out, since the standard deviation determines how far away from the mean the values tend to fall. Larger standard deviations produce wider distributions.\n",
    "When you have narrow distributions, the probabilities are higher that values won’t fall far from the mean.\n"
   ]
  },
  {
   "cell_type": "markdown",
   "id": "42beed67",
   "metadata": {},
   "source": [
    "## Task 2: Sampling from the distribution \n",
    "Now let's draw a bunch of samples from the distribution and look what kind of values did we get out.\n",
    "\n",
    "The following cell i) draws samples from the distribution, ii) calculates a normalized histogram of the samples (to get an approximate representation of the density of the sample values), iii) plots the distribution we are sampling from (in blue) and the obtained normalized histogram (in magenta with a bar plot and in cyan using a curve). \n",
    "\n",
    "Play with the values of the variables 'num_samples' (default is 10) and 'num_bins' (default is 10).  \n",
    "\n",
    "Change their values so that the match between the blue coloured curve (true density) and the cyan coloured curve (density representation of samples via a normalized histogram) is improved, ideally good.\n",
    "\n",
    "In the 'Answer'-section, briefly describe in the empty cell how did you change the parameter values and why did they result in a better result."
   ]
  },
  {
   "cell_type": "code",
   "execution_count": 4,
   "id": "bb1d3846",
   "metadata": {},
   "outputs": [
    {
     "data": {
      "image/png": "[encoded data removed]",
      "text/plain": [
       "<Figure size 720x720 with 1 Axes>"
      ]
     },
     "metadata": {
      "needs_background": "light"
     },
     "output_type": "display_data"
    }
   ],
   "source": [
    "# sample from the distribution\n",
    "num_samples = 1000 \n",
    "samples = mu+sigma*np.random.randn(num_samples)\n",
    "\n",
    "# get an approximate representation of the density \n",
    "num_bins = 20\n",
    "bin_centers, normalized_bin_counts = histogram_estimation_of_univariate_data_density(samples, nbins=num_bins)\n",
    "\n",
    "# plot the true density and the histogram based approximate density\n",
    "_,__, fig, ax = plot_univariate_gaussian_pdf(mu, sigma)\n",
    "ax.plot(bin_centers, normalized_bin_counts, linestyle='dashed', color='cyan', linewidth=3, alpha=0.8)\n",
    "ax.bar(bin_centers, normalized_bin_counts, width=20./num_bins, color='magenta', \n",
    "       edgecolor='black' if num_bins<= 100 else 'magenta', alpha=0.5)\n",
    "ax.set_title('True density vs. normalized histogram of samples');"
   ]
  },
  {
   "cell_type": "markdown",
   "id": "6485f8be",
   "metadata": {},
   "source": [
    "### Answer\n",
    "Input your answers to the cell below."
   ]
  },
  {
   "cell_type": "markdown",
   "id": "de620e53",
   "metadata": {},
   "source": [
    "In order to make the blue curve (true density) and the cyan coloured curve, we will be changing the parameters values and the variable values accordingly.\n",
    "\n",
    "Two parameters controll the histogram: the num_samples and the num_bins.\n",
    "The samples parameter controlls how many data we have, so the bigger the more accurate it is.\n",
    "Changing the number of bins, I noticed, the higher the number of bins, the more bars we have on the histogram and vice versa.\n",
    "Playing with these parameters for some time, I notice that the peak tends to be between (0.0 and 2.5)\n",
    "\n",
    "So I set the blue curve's mean (mu) at around 1. \n",
    "And the standard derivation to 1.5 .\n",
    "\n",
    "I add more samples, so we set the number of samples at 1000\n",
    "I change the number of bins at 20.\n",
    "\n",
    "The resut shows that the blue and cyan curves match. The blue curve passes by the middles of all the bins of this distribution as well.\n"
   ]
  },
  {
   "cell_type": "markdown",
   "id": "c93a0b4a",
   "metadata": {},
   "source": [
    "## Task 3: Estimating true parameter values based on data samples\n",
    "Now let's estimate true parameter values of the distribution, from a set of samples from the true distribution. Let us do that for a varying amount of samples, and let us also assess estimation effectiveness for each case. Let us assess the effectiveness by comparing true and estimated parameter values, and the KL-divergence between the true and the estimated distribution.\n",
    "\n",
    "Codes for doing all of that is provided in the cell below. Your task is to replace\n",
    "the parameter estimators to be better ones, ideally the best ones; there are two lines\n",
    "of code that you should change, one starting with 'mu_estimate = ' and the other starting\n",
    "with 'sigma_estimate = ', the ones between the two lines containing comment 'CHANGE CODE'.\n",
    "\n",
    "In the 'Answer'-section, briefly describe i) your changes, ii) how and why did the results improve, and iii) the dependency on the estimation effectiveness to the amount of samples used when considering the improved approach."
   ]
  },
  {
   "cell_type": "code",
   "execution_count": 6,
   "id": "c1889482",
   "metadata": {},
   "outputs": [
    {
     "data": {
      "image/png": "[encoded data removed]",
      "text/plain": [
       "<Figure size 864x288 with 3 Axes>"
      ]
     },
     "metadata": {
      "needs_background": "light"
     },
     "output_type": "display_data"
    }
   ],
   "source": [
    "num_samples_list = [10**1, 10**2, 10**3, 10**4, 10**5]\n",
    "num_samples_cases = len(num_samples_list)\n",
    "mu_estimates = np.empty((num_samples_cases,), dtype=float)\n",
    "sigma_estimates = np.empty((num_samples_cases,), dtype=float)\n",
    "kl_divergences = np.empty((num_samples_cases,), dtype=float)\n",
    "\n",
    "# get samples, estimate parameters, assess effectiveness: \n",
    "# loop over the varying case of differing amount of samples\n",
    "# ----------------------------------------------------------\n",
    "\n",
    "for num_samples_case_index, num_samples in enumerate(num_samples_list):\n",
    "    # sample from the distribution\n",
    "    samples = mu+sigma*np.random.randn(num_samples)\n",
    "    \n",
    "    # estimate parameter values from the distribution\n",
    "    ###########################################################################\n",
    "    # ----------> CHANGE CODE: IMPROVE THE ESTIMATORS, IF IMPROVING IS POSSIBLE\n",
    "    mu_estimate = np.sum(samples)/num_samples\n",
    "    sigma_estimate = np.sqrt(np.sum((samples-mu_estimate)**2)/(num_samples-1)) \n",
    "    # < --------- CHANGE CODE \n",
    "    ###########################################################################\n",
    "    \n",
    "    # calculate KL-divergence between true and estimated distribution\n",
    "    kl_div = kl_divergence_between_two_univariate_gaussians(mu, sigma, mu_estimate, sigma_estimate)\n",
    "    \n",
    "    # record the obtained parameter values and the KL-divergence\n",
    "    mu_estimates[num_samples_case_index] = mu_estimate\n",
    "    sigma_estimates[num_samples_case_index] = sigma_estimate\n",
    "    kl_divergences[num_samples_case_index] = kl_div\n",
    "    \n",
    "# plot results\n",
    "# -------------\n",
    "# create figure infrastructure\n",
    "fig, (ax1, ax2, ax3) = plt.subplots(nrows=1, ncols=3, figsize=[12, 4], gridspec_kw={'height_ratios': [1]})\n",
    "\n",
    "# plot mu vs mu_estimated\n",
    "ax1.plot(np.array(num_samples_list), mu_estimates); xlim = ax1.get_xlim()\n",
    "ax1.hlines(mu, xlim[0], xlim[1], linestyle='dashed', colors=['b'], linewidth=4)\n",
    "ax1.set_title(r'$\\mu$ vs. $\\hat{\\mu}$'); ax1.set_xlabel('amount of samples')\n",
    "\n",
    "# plot sigma vs sigma_estimated\n",
    "ax2.plot(np.array(num_samples_list), sigma_estimates); xlim = ax2.get_xlim()\n",
    "ax2.hlines(sigma, xlim[0], xlim[1], linestyle='dashed', colors=['b'], linewidth=4)\n",
    "ax2.set_title(r'$\\sigma$ vs. $\\hat{\\sigma}$'); ax2.set_xlabel('amount of samples')\n",
    "\n",
    "# plot KL-divergence (p_true || p_estimated)\n",
    "ax3.plot(np.array(num_samples_list), kl_divergences); xlim = ax3.get_xlim()\n",
    "ax3.hlines(0, xlim[0], xlim[1], linestyle='dashed', colors=['b'], linewidth=4)\n",
    "ax3.set_title(r'$D_{KL}\\left(\\mathcal{N}(\\mu, \\sigma) \\|| \\mathcal{N}(\\hat{\\mu}, \\hat{\\sigma})\\right)$')\n",
    "ax3.set_xlabel('amount of samples');"
   ]
  },
  {
   "cell_type": "markdown",
   "id": "364d660d",
   "metadata": {},
   "source": [
    "### Answer\n",
    "Input your answers to the cell below."
   ]
  },
  {
   "cell_type": "markdown",
   "id": "9b7ec523",
   "metadata": {},
   "source": [
    "1) The changes:\n",
    "  mu_estimate = np.sum(samples)/num_samples\n",
    "  sigma_estimate = np.sqrt(np.sum((samples-mu_estimate)**2)/(num_samples-1))\n",
    "\n",
    "2) How and why did the results improve:\n",
    "  From the figures we can see that the both curves are touching each other at all the points showing the amount of samples. And that is because the changes are working ideally, because of the big amount of samples, and also because of different trials. The kl-divergence value is so low after the changes. And the true distribution matches our estimation. The properties of an estimator are unbiasedness, efficiency, and consistency.\n",
    "\n",
    "3)  The dependency on the estimation effectiveness to the amount of samples used when considering the improved approach:\n",
    "   Larger sample sizes generally lead to increased precision when estimating. As sample sizes increase, the sampling distributions approach a normal distribution. With \"infinite\" numbers of successive random samples, the mean of the sampling distribution is equal to the population mean (µ).\n"
   ]
  },
  {
   "cell_type": "markdown",
   "id": "8faed56c",
   "metadata": {},
   "source": [
    "# Multivariate data\n",
    "Similar as above, but for multivariate (bivariate) data."
   ]
  },
  {
   "cell_type": "markdown",
   "id": "4e609ad0",
   "metadata": {},
   "source": [
    "## Task 4: Specifying a multivariate Gaussian \n",
    "The code in the cell below creates a plot of a probability density function (pdf) of a \n",
    "bivariate Gaussian whose parameter values can be (re)set interactively.\n",
    "\n",
    "Play with setting the parameter values, and select parameter values that are different from the default ones. \n",
    "\n",
    "In the 'Answer'-section, briefly describe in the empty cell i) what do the parameters mean/control, ii) how does changing them can be seen from the plot, and iii) what parameter values did you choose"
   ]
  },
  {
   "cell_type": "code",
   "execution_count": 9,
   "id": "e4342784",
   "metadata": {},
   "outputs": [
    {
     "data": {
      "application/vnd.jupyter.widget-view+json": {
       "model_id": "35edfafbf6f74c0e8e16451a5ace6d90",
       "version_major": 2,
       "version_minor": 0
      },
      "text/plain": [
       "interactive(children=(FloatSlider(value=0.0, description='$\\\\mu_1$', max=2.0, min=-2.0, step=0.5), FloatSlider…"
      ]
     },
     "metadata": {},
     "output_type": "display_data"
    }
   ],
   "source": [
    "interactive_plot = plot_and_specify_bivariate_gaussian_interactively()\n",
    "interactive_plot"
   ]
  },
  {
   "cell_type": "code",
   "execution_count": 10,
   "id": "42da42f8",
   "metadata": {},
   "outputs": [],
   "source": [
    "mu, K, _, __ = interactive_plot.result # extracts the parameter values from the interactive plot instance "
   ]
  },
  {
   "cell_type": "markdown",
   "id": "99ee5b39",
   "metadata": {},
   "source": [
    "### Answer\n",
    "Input your answers to the cell below."
   ]
  },
  {
   "cell_type": "markdown",
   "id": "16b63bad",
   "metadata": {},
   "source": [
    "1) The parameters meanings and what do they controll:\n",
    "\n",
    "The parameters in a multivariate distribution are as follow:\n",
    "u1 (mu1) is the expected value on the axis x1 ( the one starting from the left). mu1 controlls the point at which the pdf is maximum on this axis. The same thing for mu2 but on the axis x2.\n",
    "\n",
    " 𝜎1 is standard deviation;(variance=𝜎²); is a measure of how dispersed the data is in relation to the mean on axis x1. The same thing for 𝜎2 but on axis x2.\n",
    " \n",
    " The last parameter is ρ (covariance) and it is the measure of the joint variability of x1 and x2. If the greater values of x1 mainly correspond with the greater values of the x2, the covariance is positive. In the opposite case, when the greater values of x1 correspond to the lesser values of x2, the covariance is negative. The mathematical expression of a covariance is equal to the correlation times the product of the two standard deviations. In other words, a positive covariance means that both variables tend to be high or low at the same time. A negative covariance means that when one variable is high, the other tends to be low.\n",
    " \n",
    "  2) Changing the parameters and the results, and 3) chosen values:\n",
    "  When we change mu1 from 0 to 1, the curve moves to the right parallel to the axis x1 ( a negative value woumd have made the curve move left.\n",
    "  When we change mu2 from 0 to -1, the curve moves to the left parallet to the axis x2 and vertical to the axis x1.\n",
    "  \n",
    "  When we change 𝜎1 from 0.5 to 1, the curve becomes more spread out and the projection of the extremity of the curve is between (-2,2) on the axis x1.\n",
    "  When we change 𝜎2 from 0.5 to 2, the curve becomes more spread out parallel to the axis x2, and the projection of the extremity of the curve is between (-4,4) on the axis x2.\n",
    "  \n",
    "  When we alter the values of ρ, we see a difference in height and direction of the curve ( when it is turning right = covariance positive) and vice versa. "
   ]
  },
  {
   "cell_type": "markdown",
   "id": "88d0e3ae",
   "metadata": {},
   "source": [
    "## Task 5: Sampling from the distribution and estimating true parameter values based on the samples\n",
    "Now let's draw a bunch of samples from the (chosen) distribution, and based on them, let's estimate the true parameter values of the distribution. Let us do that for a varying amount of samples, and let us also assess estimation effectiveness for each case. Let us assess the effectiveness by comparing the true and estimated parameter values, and the KL-divergence between the true and the estimated distribution.\n",
    "\n",
    "Codes for doing all of that is provided in the cell below. Your task is to replace\n",
    "the parameter estimators to be better ones, ideally the best ones; there are two lines\n",
    "of code that you should change, one starting with 'mu_estimate = ' and the other starting\n",
    "with 'K_estimate = ', the ones between the two lines containing comment 'CHANGE CODE'.\n",
    "\n",
    "In the 'Answer'-section, briefly describe i) your changes, ii) how and why did the results improve, and iii) the dependency on the estimation effectiveness to the amount of samples used when considering the improved approach. "
   ]
  },
  {
   "cell_type": "code",
   "execution_count": 14,
   "id": "f1d65965",
   "metadata": {},
   "outputs": [
    {
     "data": {
      "image/png": "[encoded data removed]",
      "text/plain": [
       "<Figure size 864x288 with 2 Axes>"
      ]
     },
     "metadata": {
      "needs_background": "light"
     },
     "output_type": "display_data"
    }
   ],
   "source": [
    "num_samples_list = [10**1, 10**2, 10**3, 10**4, 10**5]\n",
    "num_samples_cases = len(num_samples_list)\n",
    "mu_estimates = np.empty((num_samples_cases, 2), dtype=float)\n",
    "kl_divergences = np.empty((num_samples_cases,), dtype=float)\n",
    "\n",
    "# get samples, estimate parameters, assess effectiveness: \n",
    "# loop over the varying case of differing amount of samples\n",
    "# ----------------------------------------------------------\n",
    "\n",
    "for num_samples_case_index, num_samples in enumerate(num_samples_list):\n",
    "    # sample from the distribution\n",
    "    samples = np.random.multivariate_normal(mean=mu.flatten(), cov=K, size=num_samples)\n",
    "    \n",
    "    # estimate parameter values from the distribution\n",
    "    ###########################################################################\n",
    "    # ----------> CHANGE CODE: IMPROVE THE ESTIMATORS, IF IMPROVING IS POSSIBLE\n",
    "    \n",
    "    # compute_sample_covariance: function to compute sample covariance matrix from centered data\n",
    "def compute_sample_covariance(centered_data_matrix, method='built-'):\n",
    "    '''\n",
    "    inputs:\n",
    "    -------\n",
    "    centered_data_matrix: rows index examples, columns index dimensions/variables\n",
    "    method: string ['built-in', 'incremental', or 'vectorized'] specifying which approach to adopt in calculation, \n",
    "            differences only in implementation; built-in utilizes NumPy's own function, the others are own implementations.\n",
    "    \n",
    "    outputs:\n",
    "    --------\n",
    "    sample_covariance: sample covariance matrix\n",
    "    '''\n",
    "    if method == 'built-in':\n",
    "        sample_covariance = np.cov(centered_data_matrix.transpose())\n",
    "    elif method == 'incremental': \n",
    "        [num_examples, num_dimensions] = centered_data_matrix.shape\n",
    "        sample_covariance = np.zeros((num_dimensions, num_dimensions))\n",
    "        for sample_index in np.arange(num_examples):\n",
    "            sample_covariance += np.dot(centered_data_matrix[sample_index:sample_index+1, :].transpose(), centered_data_matrix[sample_index:sample_index+1, :])  \n",
    "        sample_covariance = sample_covariance/(num_examples-1)\n",
    "    elif method == 'vectorized': # no for-loops, speed-benefits\n",
    "        [num_examples, num_data_dimensions] = centered_data_matrix.shape\n",
    "        sample_covariance = np.dot(centered_data_matrix.transpose(), centered_data_matrix)/(num_examples-1)\n",
    "    return sample_covariance\n",
    "    mu_estimates = np.sum(samples, axis=0, keepdims=True)/num_samples\n",
    "    Kl_estimates = compute_sample_covariance(samples-mu_estimate, 'vectorized')\n",
    "    \n",
    "\n",
    "    # < --------- CHANGE CODE \n",
    "    ###########################################################################\n",
    "    \n",
    "    # calculate KL-divergence between the true and estimated distribution\n",
    "    kl_div = kl_divergence_between_two_multivariate_gaussians(mu, K, mu_estimates, Kl_estimates)\n",
    "    \n",
    "    # record the obtained parameter values, the KL-divergence, and the normalized log-likelihood\n",
    "    mu_estimates[num_samples_case_index, :] = mu_estimate.copy()\n",
    "    kl_divergences[num_samples_case_index] = kl_div\n",
    "    \n",
    "# plot results\n",
    "# -------------\n",
    "\n",
    "# create figure infrastructure\n",
    "fig, (ax1, ax2) = plt.subplots(nrows=1, ncols=2, figsize=[12, 4], gridspec_kw={'height_ratios': [1]})\n",
    "\n",
    "# plot mu vs mu_estimated\n",
    "ax1.plot(mu_estimates[:, 0], mu_estimates[:, 1], label='estimated') \n",
    "for num_samples_case_index, num_samples in enumerate(num_samples_list):\n",
    "    ax1.text(mu_estimates[num_samples_case_index, 0], mu_estimates[num_samples_case_index, 1], str(num_samples))\n",
    "ax1.plot(mu[0, 0], mu[0, 1], 'x', color='r', markersize=10, label='true')\n",
    "ax1.set_xlabel(r'$x_1$'); ax1.set_ylabel(r'$x_2$') \n",
    "ax1.set_title(r'$\\mu$ vs. $\\hat{\\mu}$'); ax1.legend()\n",
    "\n",
    "# plot KL-divergence (p_true || p_estimated)\n",
    "ax2.plot(np.array(num_samples_list), kl_divergences); xlim = ax2.get_xlim()\n",
    "ax2.hlines(0, xlim[0], xlim[1], linestyle='dashed', colors=['b'], linewidth=4)\n",
    "ax2.set_title(r'KL-divergence $D_{KL}\\left(\\mathcal{N}(\\mu, \\Sigma) \\|| \\mathcal{N}(\\hat{\\mu}, \\hat{\\Sigma})\\right)$')\n",
    "ax2.set_xlabel(r'amount of samples');"
   ]
  },
  {
   "cell_type": "markdown",
   "id": "36d34b3d",
   "metadata": {},
   "source": [
    "### Answer\n",
    "Input your answers to the cell below."
   ]
  },
  {
   "cell_type": "markdown",
   "id": "b4c90b59",
   "metadata": {},
   "source": [
    "1) The changes:\n",
    " Add a function and change mu_estimates = ' and 'Kl_estimates' and debug the code (code from class):\n",
    " def compute_sample_covariance(centered_data_matrix, method='built-'):\n",
    "    '''\n",
    "    inputs:\n",
    "    -------\n",
    "    centered_data_matrix: rows index examples, columns index dimensions/variables\n",
    "    method: string ['built-in', 'incremental', or 'vectorized'] specifying which approach to adopt in calculation, \n",
    "            differences only in implementation; built-in utilizes NumPy's own function, the others are own implementations.\n",
    "    \n",
    "    outputs:\n",
    "    --------\n",
    "    sample_covariance: sample covariance matrix\n",
    "    '''\n",
    "    if method == 'built-in':\n",
    "        sample_covariance = np.cov(centered_data_matrix.transpose())\n",
    "    elif method == 'incremental': \n",
    "        [num_examples, num_dimensions] = centered_data_matrix.shape\n",
    "        sample_covariance = np.zeros((num_dimensions, num_dimensions))\n",
    "        for sample_index in np.arange(num_examples):\n",
    "            sample_covariance += np.dot(centered_data_matrix[sample_index:sample_index+1, :].transpose(), centered_data_matrix[sample_index:sample_index+1, :])  \n",
    "        sample_covariance = sample_covariance/(num_examples-1)\n",
    "    elif method == 'vectorized': # no for-loops, speed-benefits\n",
    "        [num_examples, num_data_dimensions] = centered_data_matrix.shape\n",
    "        sample_covariance = np.dot(centered_data_matrix.transpose(), centered_data_matrix)/(num_examples-1)\n",
    "    return sample_covariance\n",
    "   mu_estimates = np.sum(samples, axis=0, keepdims=True)/num_samples\n",
    "   Kl_estimates = compute_sample_covariance(samples-mu_estimate, 'vectorized')\n",
    "    \n",
    " \n",
    "\n",
    "2) How and why did the results improve:\n",
    "  We can see from the left graph that the estimated  values and the true values are the same. It shows clearly again from the right grapgh of the Kl_divergence that the divergence between the true and extimated value is non existent. Which makes our estimation ideal after changing the code.\n",
    "\n",
    "3)  The dependency on the estimation effectiveness to the amount of samples used when considering the improved approach:\n",
    "   Larger sample sizes generally lead to increased precision when estimating. As sample sizes increase, the sampling distributions approach a normal distribution. With the smaller sample size there were large gaps between each possible sample proportion. When the sample size increased, the gaps between the possible sampling proportions decreased. With the larger sampling size the sampling distribution approximates a normal distribution."
   ]
  }
 ],
 "metadata": {
  "kernelspec": {
   "display_name": "Python 3 (ipykernel)",
   "language": "python",
   "name": "python3"
  },
  "language_info": {
   "codemirror_mode": {
    "name": "ipython",
    "version": 3
   },
   "file_extension": ".py",
   "mimetype": "text/x-python",
   "name": "python",
   "nbconvert_exporter": "python",
   "pygments_lexer": "ipython3",
   "version": "3.9.7"
  }
 },
 "nbformat": 4,
 "nbformat_minor": 5
}
